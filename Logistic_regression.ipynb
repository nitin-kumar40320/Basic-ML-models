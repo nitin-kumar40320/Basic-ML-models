{
 "cells": [
  {
   "cell_type": "markdown",
   "id": "c837a06c-2661-4966-b4d1-ec20f14889b9",
   "metadata": {},
   "source": [
    "First we will import the required libraries for our model"
   ]
  },
  {
   "cell_type": "code",
   "execution_count": 63,
   "id": "63ed1601-dba2-475d-b912-14349e97a607",
   "metadata": {},
   "outputs": [],
   "source": [
    "import numpy as np\n",
    "import matplotlib.pyplot as plt\n",
    "import sklearn.datasets as sk"
   ]
  },
  {
   "cell_type": "markdown",
   "id": "6fc08fe8-6029-4c65-ba52-e038e2b6626a",
   "metadata": {},
   "source": [
    "we test somethings randomly"
   ]
  },
  {
   "cell_type": "code",
   "execution_count": 64,
   "id": "60ada94f-000e-43f4-8d08-cd73f2a431e8",
   "metadata": {},
   "outputs": [
    {
     "name": "stdout",
     "output_type": "stream",
     "text": [
      "[1 2 3]\n"
     ]
    }
   ],
   "source": [
    "a= np.array([1,2,3])\n",
    "print(a)\n",
    "b=np.array([4,5,6])\n",
    "# plt.scatter(a,b)\n",
    "# plt.show()"
   ]
  },
  {
   "cell_type": "markdown",
   "id": "ead1ed38-b32a-4a83-98f0-36e85ce9c789",
   "metadata": {},
   "source": [
    "IMPORTING THE DATA FOR TRAINING AND TESTING"
   ]
  },
  {
   "cell_type": "code",
   "execution_count": 65,
   "id": "0d65277a-f84c-47cc-a7d2-140d7cac1b2d",
   "metadata": {},
   "outputs": [
    {
     "name": "stdout",
     "output_type": "stream",
     "text": [
      "2338 2338\n",
      "14\n"
     ]
    }
   ],
   "source": [
    "# DATA-1\n",
    "da= sk.load_breast_cancer()\n",
    "x,y= da.data[:500],da.target[:500]\n",
    "x=np.c_[[1]*500,x]\n",
    "x_test,y_test= da.data[500:],da.target[500:]\n",
    "x_test=np.c_[[1]*69,x_test]\n",
    "\n",
    "#DATA-2\n",
    "x,y=[],[]\n",
    "file= open('logical_reg_2.csv','r')\n",
    "for i in file:\n",
    "    try:\n",
    "        l= list(map(float,i.split(',')))\n",
    "        x.append(l[:-1])\n",
    "        y.append(float(l[-1]))\n",
    "    except:\n",
    "        pass\n",
    "file.close()\n",
    "print(len(x),len(y))\n",
    "x,y=np.c_[[1]*2338,x],np.array(y)\n",
    "x_test,y_test=x[500:600],y[500:600]\n",
    "x,y=x[:500],y[:500]\n",
    "print(len(x[0]))"
   ]
  },
  {
   "cell_type": "markdown",
   "id": "4c79c658-0637-4313-bafb-9923800f36dc",
   "metadata": {},
   "source": [
    "we define the logistic function which takes the value of x and theta as row matrices"
   ]
  },
  {
   "cell_type": "code",
   "execution_count": 66,
   "id": "8ce3105a-b1c0-4eb4-8791-01032ec2aa0c",
   "metadata": {},
   "outputs": [],
   "source": [
    "def h(x,theta):\n",
    "    temp= np.transpose(theta)\n",
    "    # print(temp,temp.shape,theta,theta.shape)\n",
    "    # print(np.dot(x,temp))\n",
    "    return 1/(1+np.exp(-np.dot(x,temp)))     # and it returns a scalar in numpy float format and not as an array so it does not have a shape\n",
    "# x=np.array([1,2,3])\n",
    "# theta= np.array([1,2,3])\n",
    "# z=h(x,theta)\n",
    "# print(z,type(z),z.shape)"
   ]
  },
  {
   "cell_type": "markdown",
   "id": "8aa031e1-103d-461f-b701-71c37ea5d7b0",
   "metadata": {},
   "source": [
    "now we create a function to train our model and make it return a matrix theta of the parameters"
   ]
  },
  {
   "cell_type": "code",
   "execution_count": 67,
   "id": "d420c26f-2923-45a9-a5b6-6f50fbdbd319",
   "metadata": {},
   "outputs": [],
   "source": [
    "def train(x,y):\n",
    "    theta= np.array([0]*14)\n",
    "    alp=0.1\n",
    "    step=10000\n",
    "    counter=0\n",
    "    print(theta)\n",
    "    print() \n",
    "\n",
    "    while  step>0 and counter<100 :\n",
    "        thetaprev= theta.copy()\n",
    "        h_= np.array([h(j,theta) for j in x])\n",
    "        h_= np.transpose(y-h_)\n",
    "        # print(h_,'*')\n",
    "        for i in range(14):\n",
    "            x_=x[:,i]\n",
    "            x_= np.dot(x_,h_)\n",
    "            theta[i]+=alp*x_\n",
    "        # print(theta)\n",
    "        step= sum(abs(theta-thetaprev))\n",
    "        print(step)\n",
    "        print()\n",
    "        if counter>20:\n",
    "            alp-=0.01\n",
    "        counter+=1\n",
    "    return theta"
   ]
  },
  {
   "cell_type": "markdown",
   "id": "d73eafb0-0c38-4098-9733-bdeb9248706d",
   "metadata": {},
   "source": [
    "Now we test our code over the testing data"
   ]
  },
  {
   "cell_type": "code",
   "execution_count": 68,
   "id": "b69161e2-87aa-4db3-9a6d-61e7ccaee45f",
   "metadata": {},
   "outputs": [
    {
     "name": "stdout",
     "output_type": "stream",
     "text": [
      "[0 0 0 0 0 0 0 0 0 0 0 0 0 0]\n",
      "\n",
      "232\n",
      "\n",
      "4087\n",
      "\n",
      "4669\n",
      "\n",
      "4441\n",
      "\n",
      "4671\n",
      "\n",
      "4441\n",
      "\n",
      "4673\n",
      "\n",
      "4442\n",
      "\n",
      "4674\n",
      "\n",
      "4430\n",
      "\n",
      "4674\n",
      "\n",
      "4400\n",
      "\n",
      "4674\n",
      "\n",
      "4400\n",
      "\n",
      "4674\n",
      "\n",
      "4400\n",
      "\n",
      "4656\n",
      "\n",
      "4371\n",
      "\n",
      "4411\n",
      "\n",
      "4334\n",
      "\n",
      "4212\n",
      "\n",
      "4194\n",
      "\n",
      "3680\n",
      "\n",
      "2842\n",
      "\n",
      "1327\n",
      "\n",
      "712\n",
      "\n",
      "316\n",
      "\n",
      "125\n",
      "\n",
      "89\n",
      "\n",
      "53\n",
      "\n",
      "27\n",
      "\n",
      "0\n",
      "\n",
      "25 *****\n"
     ]
    },
    {
     "name": "stderr",
     "output_type": "stream",
     "text": [
      "C:\\Users\\nitu2\\AppData\\Local\\Temp\\ipykernel_17452\\232841674.py:5: RuntimeWarning: overflow encountered in exp\n",
      "  return 1/(1+np.exp(-np.dot(x,temp)))     # and it returns a scalar in numpy float format and not as an array so it does not have a shape\n"
     ]
    },
    {
     "data": {
      "image/png": "[encoded data removed]",
      "text/plain": [
       "<Figure size 640x480 with 1 Axes>"
      ]
     },
     "metadata": {},
     "output_type": "display_data"
    }
   ],
   "source": [
    "arbitrary= np.array([i for i in range(1,len(y_test)+1)])\n",
    "plt.scatter(arbitrary,y_test)\n",
    "th= train(x,y)\n",
    "predicted=[]\n",
    "for i in x_test:\n",
    "    predicted.append((h(i,th)))\n",
    "predicted= np.array(predicted)\n",
    "plt.scatter(arbitrary,predicted)\n",
    "yp= list(y_test-predicted)\n",
    "print(len(yp)-yp.count(0),'*****')\n",
    "plt.show()"
   ]
  },
  {
   "cell_type": "code",
   "execution_count": null,
   "id": "369fcee4-ddfc-46d7-aa9f-450b7ab4ca43",
   "metadata": {},
   "outputs": [],
   "source": []
  }
 ],
 "metadata": {
  "kernelspec": {
   "display_name": "Python 3 (ipykernel)",
   "language": "python",
   "name": "python3"
  },
  "language_info": {
   "codemirror_mode": {
    "name": "ipython",
    "version": 3
   },
   "file_extension": ".py",
   "mimetype": "text/x-python",
   "name": "python",
   "nbconvert_exporter": "python",
   "pygments_lexer": "ipython3",
   "version": "3.12.0"
  }
 },
 "nbformat": 4,
 "nbformat_minor": 5
}
