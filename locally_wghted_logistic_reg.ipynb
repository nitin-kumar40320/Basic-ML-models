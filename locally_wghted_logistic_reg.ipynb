{
 "cells": [
  {
   "cell_type": "markdown",
   "id": "de00b3a5-eaa0-446d-949e-21de5c2fc41e",
   "metadata": {},
   "source": [
    "First we import the necessary libraries"
   ]
  },
  {
   "cell_type": "code",
   "execution_count": 4,
   "id": "8a916305-e57e-4db5-baf6-7f0de239074a",
   "metadata": {},
   "outputs": [],
   "source": [
    "import numpy as np\n",
    "import matplotlib.pyplot as plt\n",
    "import sklearn.datasets as sk"
   ]
  },
  {
   "cell_type": "markdown",
   "id": "9d534ca7-fe36-448c-84a7-eef6812e5701",
   "metadata": {},
   "source": [
    "Now we try some random things"
   ]
  },
  {
   "cell_type": "code",
   "execution_count": 5,
   "id": "99279264-ebaa-4f46-a083-f226f74de818",
   "metadata": {},
   "outputs": [],
   "source": [
    "# a=np.array([1,2,3])\n",
    "# print(a.dtype)\n",
    "# a= [1,2,3]\n",
    "# b=np.transpose(a)\n",
    "# b=np.array([[4,5,6],[7,8,9],[12,13,14]])\n",
    "# print(np.diag(a))\n",
    "# a,b=1e-1000,7\n",
    "# print(np.dot(a,b))"
   ]
  },
  {
   "cell_type": "markdown",
   "id": "8862aa85-cc01-46de-90f9-69fd371f732b",
   "metadata": {},
   "source": [
    "Importing data fom the toy datasets"
   ]
  },
  {
   "cell_type": "code",
   "execution_count": 6,
   "id": "98916d2a-4d48-4f5e-8f53-85fe3afdf71d",
   "metadata": {},
   "outputs": [],
   "source": [
    "da= sk.load_breast_cancer()\n",
    "x,y= da.data,da.target\n",
    "x=np.c_[[1]*569,x]\n",
    "# x_test,y_test=x[469:],y[469:]\n",
    "# x,y=x[:469],y[:469]\n",
    "x_test,y_test= x[:30],y[:30]\n",
    "\n",
    "# Then we initialise some variables to use\n",
    "n= len(y)    # The number of training examples\n",
    "f=len(x[0])  # The number of features used in x including the pseudo feature(1)\n",
    "n_= len(x_test)  # The number of testing examples"
   ]
  },
  {
   "cell_type": "markdown",
   "id": "773cc81d-43ea-4801-b48c-cb874d9894a2",
   "metadata": {},
   "source": [
    "we define the hypothesis function"
   ]
  },
  {
   "cell_type": "code",
   "execution_count": 7,
   "id": "910b87fd-3fda-4ced-acef-449979d1c98b",
   "metadata": {},
   "outputs": [],
   "source": [
    "def h(x,theta):    # it takes theta as a column veftor of length 'f' and x as a row vector of length 'f'\n",
    "    return 1/(1+np.exp(-np.dot(x,theta)))     # and it returns a scalar in numpy float format and not as an array so it does not have a shape"
   ]
  },
  {
   "cell_type": "markdown",
   "id": "5f4f6916-16b6-4944-93b5-be22c17c559a",
   "metadata": {},
   "source": [
    "Defining the function to apply the Newton raphson algorithm for cost function minimisation on a given point"
   ]
  },
  {
   "cell_type": "code",
   "execution_count": 10,
   "id": "fba5bf52-c17f-4a38-a6d8-6342966e013d",
   "metadata": {},
   "outputs": [],
   "source": [
    "def find(var):\n",
    "    tau=0.001\n",
    "    lamda=0.0001\n",
    "    theta=np.array([[1.]]*f)    # initialising the value of theta at 1\n",
    "\n",
    "    # Here we predefine some variables for usage in the newton raphson formula given in problemset 1 of the cs229 course\n",
    "    I= np.identity(f)    #identity matrix\n",
    "    w= ((var-x)**2)    # diagonal matrix for representing weights\n",
    "    w= np.array([sum(i) for i in w])\n",
    "    w= np.exp((w)/2*tau**2)\n",
    "    Z= []  # I don't understand what these both actually are but they were given in the formula expression(actually they are some--  \n",
    "    D= []  # --variable that came during applying the newton algorithm over matrices)\n",
    "    for ind,i in enumerate(x):\n",
    "        variable1= np.dot(h(i,theta),(1-h(i,theta)))\n",
    "        D.append(-variable1*(w[ind]))\n",
    "        variable2=y[ind]-h(i,theta)\n",
    "        Z.append(variable2*w[ind])\n",
    "    \n",
    "    \n",
    "    Z=np.array(Z)\n",
    "    w= np.diag(w)\n",
    "    D= np.diag(D)\n",
    "    counter=0\n",
    "    # print(Z)\n",
    "\n",
    "    while counter<13:\n",
    "        hess= np.dot(x.T,D)\n",
    "        hess= np.dot(hess,x)\n",
    "        hess= hess-(lamda*I)\n",
    "        hess= np.linalg.inv(hess)\n",
    "        grad= np.dot(x.T,Z)-(lamda*theta)\n",
    "        theta-= np.dot(hess,grad)\n",
    "        counter+=1\n",
    "\n",
    "    return h(var,theta)"
   ]
  },
  {
   "cell_type": "markdown",
   "id": "4a7b135d-565d-4a52-a6db-bdf270ec0913",
   "metadata": {},
   "source": [
    "Using the function to use on test cases and plot"
   ]
  },
  {
   "cell_type": "code",
   "execution_count": 11,
   "id": "5e218264-cecb-4252-acd4-c7d2e8b46252",
   "metadata": {},
   "outputs": [
    {
     "name": "stdout",
     "output_type": "stream",
     "text": [
      "*\n"
     ]
    },
    {
     "name": "stderr",
     "output_type": "stream",
     "text": [
      "C:\\Users\\nitu2\\AppData\\Local\\Temp\\ipykernel_8884\\2517996326.py:2: RuntimeWarning: overflow encountered in exp\n",
      "  return 1/(1+np.exp(-np.dot(x,theta)))     # and it returns a scalar in numpy float format and not as an array so it does not have a shape\n"
     ]
    },
    {
     "name": "stdout",
     "output_type": "stream",
     "text": [
      "0\n",
      "1\n",
      "2\n",
      "3\n",
      "4\n",
      "5\n",
      "6\n",
      "7\n",
      "8\n",
      "9\n",
      "10\n",
      "11\n",
      "12\n",
      "13\n",
      "14\n",
      "15\n",
      "16\n",
      "17\n",
      "18\n",
      "19\n",
      "20\n",
      "21\n",
      "22\n",
      "23\n",
      "24\n",
      "25\n",
      "26\n",
      "27\n",
      "28\n",
      "29\n",
      "[0.] ***\n",
      "[0.] ***\n",
      "[0.] ***\n",
      "3\n"
     ]
    },
    {
     "data": {
      "image/png": "[encoded data removed]",
      "text/plain": [
       "<Figure size 640x480 with 1 Axes>"
      ]
     },
     "metadata": {},
     "output_type": "display_data"
    }
   ],
   "source": [
    "print(\"*\")\n",
    "x_plot= np.array([i for i in range(1,n_+1)])\n",
    "predicted=[]\n",
    "for i,j in enumerate(x_test):\n",
    "    predicted.append(find(j))\n",
    "    print(i)\n",
    "\n",
    "predicted= np.array(predicted)\n",
    "plt.scatter(x_plot,y_test)\n",
    "plt.scatter(x_plot,predicted)\n",
    "counter=0\n",
    "for i in range(n_):\n",
    "    if predicted[i]-y_test[i]!=0:\n",
    "        counter+=1\n",
    "        print(predicted[i],\"***\")\n",
    "print(counter)\n",
    "plt.show()"
   ]
  },
  {
   "cell_type": "code",
   "execution_count": null,
   "id": "e51913f1-a42a-4e31-b1ae-216cd6edcd23",
   "metadata": {},
   "outputs": [],
   "source": []
  }
 ],
 "metadata": {
  "kernelspec": {
   "display_name": "Python 3 (ipykernel)",
   "language": "python",
   "name": "python3"
  },
  "language_info": {
   "codemirror_mode": {
    "name": "ipython",
    "version": 3
   },
   "file_extension": ".py",
   "mimetype": "text/x-python",
   "name": "python",
   "nbconvert_exporter": "python",
   "pygments_lexer": "ipython3",
   "version": "3.12.0"
  }
 },
 "nbformat": 4,
 "nbformat_minor": 5
}
